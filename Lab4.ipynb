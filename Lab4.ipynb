{
  "nbformat": 4,
  "nbformat_minor": 0,
  "metadata": {
    "colab": {
      "provenance": []
    },
    "kernelspec": {
      "name": "python3",
      "display_name": "Python 3"
    },
    "language_info": {
      "name": "python"
    }
  },
  "cells": [
    {
      "cell_type": "markdown",
      "source": [
        "**DFS**"
      ],
      "metadata": {
        "id": "spzoyNo_x9-k"
      }
    },
    {
      "cell_type": "markdown",
      "source": [
        "**Activity 1:**\n",
        "\n",
        "Consider a toy problem that can be represented as a following graph. How would you represent this graph in python?\n"
      ],
      "metadata": {
        "id": "QhLGDEMjwMSG"
      }
    },
    {
      "cell_type": "markdown",
      "source": [
        "![image.png](data:image/png;base64,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)"
      ],
      "metadata": {
        "id": "NHDEAZW8wXSj"
      }
    },
    {
      "cell_type": "code",
      "source": [
        "class Node:\n",
        "  def __init__(self,state,parent,actions,totalCost):\n",
        "    self.state=state\n",
        "    self.parent=parent\n",
        "    self.actions=actions\n",
        "    self.totalCost=totalCost\n",
        "    "
      ],
      "metadata": {
        "id": "us-ZfFknwY4j"
      },
      "execution_count": 1,
      "outputs": []
    },
    {
      "cell_type": "code",
      "execution_count": 2,
      "metadata": {
        "id": "GVhrR_QasR27"
      },
      "outputs": [],
      "source": [
        "graph={\n",
        "    'A':Node('A',None,['B','C','E'],None),\n",
        "    'B':Node('B',None,['A','D','E'],None),\n",
        "    'C':Node('C',None,['A','F','G'],None),\n",
        "    'D':Node('D',None,['B','E'],None),\n",
        "    'E':Node('E',None,['A','B','D'],None),\n",
        "    'F':Node('F',None,['C'],None),\n",
        "    'G':Node('G',None,['C'],None)\n",
        "}"
      ]
    },
    {
      "cell_type": "markdown",
      "source": [
        "**Activity 2:**\n",
        "\n",
        "For the graph in previous activity, imagine node **A as starting node** and your **goal** is to reach **F**. Keeping depth first search in mind, describe a sequence of actions that you must take to reach that goal state."
      ],
      "metadata": {
        "id": "NAYGY2TBz_kr"
      }
    },
    {
      "cell_type": "code",
      "source": [
        "def actionSequence(graph,initialState,goalState):\n",
        "  solution=[goalState]\n",
        "  currentParent=graph[goalState].parent\n",
        "  while currentParent!=None:\n",
        "    solution.append(currentParent)\n",
        "    currentParent=graph[currentParent].parent\n",
        "  solution.reverse()\n",
        "  return solution\n"
      ],
      "metadata": {
        "id": "PFtV-uIR2Py5"
      },
      "execution_count": 3,
      "outputs": []
    },
    {
      "cell_type": "markdown",
      "source": [
        "Remember that we can implement **depth first search** simply by using **LIFO** approach instead of FIFO that was used in breadth first search. Additionally we also don’t keep leaf nodes (nodes without children) in explored set."
      ],
      "metadata": {
        "id": "2bOplvg4txTm"
      }
    },
    {
      "cell_type": "code",
      "source": [
        "def DFS():\n",
        "  initialState='A'\n",
        "  goalState='F'\n",
        "  graph={\n",
        "    'A':Node('A',None,['B','C','E'],None),\n",
        "    'B':Node('B',None,['A','D','E'],None),\n",
        "    'C':Node('C',None,['A','F','G'],None),\n",
        "    'D':Node('D',None,['B','E'],None),\n",
        "    'E':Node('E',None,['A','B','D'],None),\n",
        "    'F':Node('F',None,['C'],None),\n",
        "    'G':Node('G',None,['C'],None)}\n",
        "  frontier=[initialState]\n",
        "  explored=[]\n",
        "  while len(frontier)!=0:\n",
        "    currentNode= frontier.pop(len(frontier)-1)\n",
        "    print(currentNode)\n",
        "    explored.append(currentNode)\n",
        "    currentChildren=0\n",
        "    for child in graph[currentNode].actions:\n",
        "      if child not in frontier and child not in explored:\n",
        "        graph[child].parent=currentNode\n",
        "        if graph[child].state==goalState:\n",
        "          return actionSequence(graph, initialState,goalState)\n",
        "        currentChildren=currentChildren+1\n",
        "        frontier.append(child)\n",
        "    if currentChildren==0:\n",
        "        del explored[len(explored)-1]"
      ],
      "metadata": {
        "id": "rBSsHERuz4_F"
      },
      "execution_count": 4,
      "outputs": []
    },
    {
      "cell_type": "markdown",
      "source": [
        "Notice the difference in two portions of the code between breadth first search and depth first search. \n",
        "\n",
        "In the first we just **pop out the last entry from the queue** and \n",
        "\n",
        "in the 2nd difference we **delete leaf nodes from the graph**."
      ],
      "metadata": {
        "id": "uhJIpKN-t9rS"
      }
    },
    {
      "cell_type": "code",
      "source": [
        "solution=DFS()\n",
        "print(solution)"
      ],
      "metadata": {
        "colab": {
          "base_uri": "https://localhost:8080/"
        },
        "id": "ZIbJX8Cr24HA",
        "outputId": "08eaddcc-aaa6-449f-cb92-0baf7765dec6"
      },
      "execution_count": 5,
      "outputs": [
        {
          "output_type": "stream",
          "name": "stdout",
          "text": [
            "A\n",
            "E\n",
            "D\n",
            "C\n",
            "['A', 'C', 'F']\n"
          ]
        }
      ]
    },
    {
      "cell_type": "markdown",
      "source": [
        "**Activity 3:**\n",
        "\n",
        "Change **initial state to A** and set **goal state as D**. What will be resulting path of DFS search?What will be the sequence of nodes explored?"
      ],
      "metadata": {
        "id": "7cOMYm0H4bQ3"
      }
    },
    {
      "cell_type": "code",
      "source": [
        "def DFS():\n",
        "  initialState='A'\n",
        "  goalState='D'\n",
        "  graph={\n",
        "    'A':Node('A',None,['B','C','E'],None),\n",
        "    'B':Node('B',None,['A','D','E'],None),\n",
        "    'C':Node('C',None,['A','F','G'],None),\n",
        "    'D':Node('D',None,['B','E'],None),\n",
        "    'E':Node('E',None,['A','B','D'],None),\n",
        "    'F':Node('F',None,['C'],None),\n",
        "    'G':Node('G',None,['C'],None)}\n",
        "  frontier=[initialState]\n",
        "  explored=[]\n",
        "  while len(frontier)!=0:\n",
        "    currentNode= frontier.pop(len(frontier)-1)\n",
        "    print(currentNode)\n",
        "    explored.append(currentNode)\n",
        "    currentChildren=0\n",
        "    for child in graph[currentNode].actions:\n",
        "      if child not in frontier and child not in explored:\n",
        "        graph[child].parent=currentNode\n",
        "        if graph[child].state==goalState:\n",
        "          return actionSequence(graph, initialState,goalState)\n",
        "        currentChildren=currentChildren+1\n",
        "        frontier.append(child)\n",
        "    if currentChildren==0:\n",
        "        del explored[len(explored)-1]"
      ],
      "metadata": {
        "id": "quBVEG1CulGi"
      },
      "execution_count": 6,
      "outputs": []
    },
    {
      "cell_type": "code",
      "source": [
        "solution=DFS()\n",
        "print(solution)"
      ],
      "metadata": {
        "colab": {
          "base_uri": "https://localhost:8080/"
        },
        "id": "Vb3xxoQeusRo",
        "outputId": "73ed0e57-105e-445d-9b8e-c2c9e10d893c"
      },
      "execution_count": 7,
      "outputs": [
        {
          "output_type": "stream",
          "name": "stdout",
          "text": [
            "A\n",
            "E\n",
            "['A', 'E', 'D']\n"
          ]
        }
      ]
    },
    {
      "cell_type": "markdown",
      "source": [
        "**uniform cost solution**"
      ],
      "metadata": {
        "id": "-WWdCjL0yBvA"
      }
    },
    {
      "cell_type": "markdown",
      "source": [
        "**Activity 4:**\n",
        "\n",
        "Imagine the same tree but this time we also mention the cost of each edge."
      ],
      "metadata": {
        "id": "GTv3U_GryMd4"
      }
    },
    {
      "cell_type": "markdown",
      "source": [
        "![image.png](data:image/png;base64,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)"
      ],
      "metadata": {
        "id": "Sv5slhTjyUCt"
      }
    },
    {
      "cell_type": "markdown",
      "source": [
        "Implement a uniform cost solution to find the path from **C** to **B**."
      ],
      "metadata": {
        "id": "4maoam2oyNl7"
      }
    },
    {
      "cell_type": "markdown",
      "source": [
        "First we modify our graph structure so that in Node. actions is an array of tuples where each tuple contains a vertex and its associated weight."
      ],
      "metadata": {
        "id": "ZhiuBUaRyybb"
      }
    },
    {
      "cell_type": "code",
      "source": [
        "graph={\n",
        "    'A':Node('A',None,[('B',6),('C',9),('E',1)],0),\n",
        "    'B':Node('B',None,[('A',6),('D',3),('E',4)],0),\n",
        "    'C':Node('C',None,[('A',9),('F',2),('G',3)],0),\n",
        "    'D':Node('D',None,[('B',3),('E',5),('F',7)],0),\n",
        "    'E':Node('E',None,[('A',1),('B',4),('D',5),('F',6)],0),\n",
        "    'F':Node('F',None,[('C',2),('E',6),('D',7)],0),\n",
        "    'G':Node('G',None,[('C',3)],0)\n",
        "}"
      ],
      "metadata": {
        "id": "p4ycsPV7yJHg"
      },
      "execution_count": 8,
      "outputs": []
    },
    {
      "cell_type": "markdown",
      "source": [
        "We also modify the frontier format which will now be a dictionary. This dictionary will contain each node (the state of the node will act as a key and its parent and accumulated cost from the initial state will be two attributes of a particular key).\n",
        "We now define a function which will give the node/key for which the cost is minimum. This will be implementation of pop method from the priority queue."
      ],
      "metadata": {
        "id": "RBnLOZiV1BHb"
      }
    },
    {
      "cell_type": "code",
      "source": [
        "import math\n",
        "def findMin(frontier):\n",
        "  #return that node in the frontier which has a lowest cost\n",
        "  minV=math.inf\n",
        "  node=''\n",
        "  for i in frontier:\n",
        "    if minV > frontier[i][1]:\n",
        "      minV=frontier[i][1]\n",
        "      node=i\n",
        "  return node"
      ],
      "metadata": {
        "id": "EkGJgdJ407ip"
      },
      "execution_count": 9,
      "outputs": []
    },
    {
      "cell_type": "code",
      "source": [
        "class Node:\n",
        "  def __init__(self,state,parent,actions,totalCost):\n",
        "    self.state=state\n",
        "    self.parent=parent\n",
        "    self.actions=actions\n",
        "    self.totalCost=totalCost\n",
        "\n",
        "def actionSequence(graph,initialState,goalState):\n",
        "  solution=[goalState]\n",
        "  currentParent=graph[goalState].parent\n",
        "  while currentParent!=None:\n",
        "    solution.append(currentParent)\n",
        "    currentParent=graph[currentParent].parent\n",
        "  solution.reverse()\n",
        "  return solution"
      ],
      "metadata": {
        "id": "-tQp_vzI1zkr"
      },
      "execution_count": 10,
      "outputs": []
    },
    {
      "cell_type": "code",
      "source": [
        "def UCS():\n",
        "  initialState='C'\n",
        "  goalState='B'\n",
        "  graph={\n",
        "    'A':Node('A',None,[('B',6),('C',9),('E',1)],0),\n",
        "    'B':Node('B',None,[('A',6),('D',3),('E',4)],0),\n",
        "    'C':Node('C',None,[('A',9),('F',2),('G',3)],0),\n",
        "    'D':Node('D',None,[('B',3),('E',5),('F',7)],0),\n",
        "    'E':Node('E',None,[('A',1),('B',4),('D',5),('F',6)],0),\n",
        "    'F':Node('F',None,[('C',2),('E',6),('D',7)],0),\n",
        "    'G':Node('G',None,[('C',3)],0)}\n",
        "  frontier=dict()\n",
        "  frontier[initialState]=(None,0)\n",
        "  explored=[]\n",
        "  while len(frontier)!=0:\n",
        "    currentNode=findMin(frontier)\n",
        "    del frontier[currentNode]\n",
        "    if graph[currentNode].state==goalState:\n",
        "      return actionSequence(graph,initialState,goalState)\n",
        "    explored.append(currentNode)\n",
        "    for child in graph[currentNode].actions:\n",
        "      currentCost=child[1]+graph[currentNode].totalCost\n",
        "      if child[0] not in frontier and child[0] not in explored:\n",
        "        graph[child[0]].parent=currentNode\n",
        "        graph[child[0]].totalCost=currentCost\n",
        "        frontier[child[0]]=(graph[child[0]].parent,graph[child[0]].totalCost)\n",
        "      elif child[0] in frontier:\n",
        "        if frontier[child[0]][1]<currentCost:\n",
        "          graph[child[0]].parent= frontier[child[0]][0]\n",
        "          graph[child[0]].totalCost=frontier[child[0]][1]\n",
        "        else:\n",
        "          frontier[child[0]]=(currentNode,currentCost)\n",
        "          graph[child[0]].parent= frontier[child[0]][0]\n",
        "          graph[child[0]].totalCost=frontier[child[0]][1]"
      ],
      "metadata": {
        "id": "qP_KrnpI18pz"
      },
      "execution_count": 11,
      "outputs": []
    },
    {
      "cell_type": "code",
      "source": [
        "solution=UCS()\n",
        "print(solution)"
      ],
      "metadata": {
        "colab": {
          "base_uri": "https://localhost:8080/"
        },
        "id": "do3N2ftz4zHt",
        "outputId": "096e288e-0083-4a87-8552-e0c54c382520"
      },
      "execution_count": 12,
      "outputs": [
        {
          "output_type": "stream",
          "name": "stdout",
          "text": [
            "['C', 'F', 'D', 'B']\n"
          ]
        }
      ]
    }
  ]
}